{
 "cells": [
  {
   "cell_type": "code",
   "execution_count": 15,
   "metadata": {},
   "outputs": [],
   "source": [
    "import fitz  # PyMuPDF\n",
    "import re"
   ]
  },
  {
   "cell_type": "code",
   "execution_count": 16,
   "metadata": {},
   "outputs": [],
   "source": [
    "def extract_text_from_pdf(pdf_path):\n",
    "    # Abrir o documento PDF\n",
    "    document = fitz.open(pdf_path)\n",
    "    \n",
    "    # Extração de texto de todas as páginas\n",
    "    text = \"\"\n",
    "    for page_num in range(len(document)):\n",
    "        page = document.load_page(page_num)\n",
    "        text += page.get_text(\"text\")\n",
    "    \n",
    "    return text"
   ]
  },
  {
   "cell_type": "code",
   "execution_count": 17,
   "metadata": {},
   "outputs": [],
   "source": [
    "def organize_resume_text(text):\n",
    "    # Dicionário para armazenar as seções organizadas\n",
    "    sections = {\n",
    "        \"Resumo Profissional\": \"\",\n",
    "        \"Habilidades\": \"\",\n",
    "        \"Qualificações\": \"\",\n",
    "        \"Experiência\": \"\",\n",
    "        \"Educação\": \"\",\n",
    "        \"Histórico de Trabalho\": \"\"\n",
    "    }\n",
    "\n",
    "    # Definir padrões para cada seção\n",
    "    patterns = {\n",
    "        \"Resumo Profissional\": r\"Professional Summary(.*?)(?=\\nSkills|\\nCore Qualifications|\\nExperience|\\nEducation|\\nWork History|\\n$)\",\n",
    "        \"Habilidades\": r\"Skills(.*?)(?=\\nCore Qualifications|\\nExperience|\\nEducation|\\nWork History|\\n$)\",\n",
    "        \"Qualificações\": r\"Core Qualifications(.*?)(?=\\nExperience|\\nEducation|\\nWork History|\\n$)\",\n",
    "        \"Experiência\": r\"Experience(.*?)(?=\\nEducation|\\nWork History|\\n$)\",\n",
    "        \"Educação\": r\"Education(.*?)(?=\\nWork History|\\n$)\",\n",
    "        \"Histórico de Trabalho\": r\"Work History(.*?)(?=$)\"\n",
    "    }\n",
    "\n",
    "    # Extrair cada seção usando regex\n",
    "    for section, pattern in patterns.items():\n",
    "        match = re.search(pattern, text, re.DOTALL | re.IGNORECASE)\n",
    "        if match:\n",
    "            sections[section] = match.group(1).strip()\n",
    "\n",
    "    return sections"
   ]
  },
  {
   "cell_type": "code",
   "execution_count": 18,
   "metadata": {},
   "outputs": [
    {
     "ename": "AttributeError",
     "evalue": "module 'fitz' has no attribute 'open'",
     "output_type": "error",
     "traceback": [
      "\u001b[0;31m---------------------------------------------------------------------------\u001b[0m",
      "\u001b[0;31mAttributeError\u001b[0m                            Traceback (most recent call last)",
      "Cell \u001b[0;32mIn[18], line 2\u001b[0m\n\u001b[1;32m      1\u001b[0m pdf_path \u001b[38;5;241m=\u001b[39m \u001b[38;5;124m\"\u001b[39m\u001b[38;5;124mcv.pdf\u001b[39m\u001b[38;5;124m\"\u001b[39m\n\u001b[0;32m----> 2\u001b[0m pdf \u001b[38;5;241m=\u001b[39m \u001b[43mextract_text_from_pdf\u001b[49m\u001b[43m(\u001b[49m\u001b[43mpdf_path\u001b[49m\u001b[43m)\u001b[49m\n\u001b[1;32m      4\u001b[0m pdf \u001b[38;5;241m=\u001b[39m organize_resume_text(pdf)\n",
      "Cell \u001b[0;32mIn[16], line 3\u001b[0m, in \u001b[0;36mextract_text_from_pdf\u001b[0;34m(pdf_path)\u001b[0m\n\u001b[1;32m      1\u001b[0m \u001b[38;5;28;01mdef\u001b[39;00m \u001b[38;5;21mextract_text_from_pdf\u001b[39m(pdf_path):\n\u001b[1;32m      2\u001b[0m     \u001b[38;5;66;03m# Abrir o documento PDF\u001b[39;00m\n\u001b[0;32m----> 3\u001b[0m     document \u001b[38;5;241m=\u001b[39m \u001b[43mfitz\u001b[49m\u001b[38;5;241;43m.\u001b[39;49m\u001b[43mopen\u001b[49m(pdf_path)\n\u001b[1;32m      5\u001b[0m     \u001b[38;5;66;03m# Extração de texto de todas as páginas\u001b[39;00m\n\u001b[1;32m      6\u001b[0m     text \u001b[38;5;241m=\u001b[39m \u001b[38;5;124m\"\u001b[39m\u001b[38;5;124m\"\u001b[39m\n",
      "\u001b[0;31mAttributeError\u001b[0m: module 'fitz' has no attribute 'open'"
     ]
    }
   ],
   "source": [
    "pdf_path = \"cv.pdf\"\n",
    "pdf = extract_text_from_pdf(pdf_path)\n",
    "\n",
    "pdf = organize_resume_text(pdf)"
   ]
  }
 ],
 "metadata": {
  "kernelspec": {
   "display_name": ".venv",
   "language": "python",
   "name": "python3"
  },
  "language_info": {
   "codemirror_mode": {
    "name": "ipython",
    "version": 3
   },
   "file_extension": ".py",
   "mimetype": "text/x-python",
   "name": "python",
   "nbconvert_exporter": "python",
   "pygments_lexer": "ipython3",
   "version": "3.10.12"
  }
 },
 "nbformat": 4,
 "nbformat_minor": 2
}
